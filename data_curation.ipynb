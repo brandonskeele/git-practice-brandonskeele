{
 "cells": [
  {
   "cell_type": "code",
   "execution_count": null,
   "metadata": {},
   "outputs": [],
   "source": [
    "import pandas as pd\n",
    "from selenium import webdriver\n",
    "from selenium.webdriver.chrome.service import Service as ChromeService\n",
    "from webdriver_manager.chrome import ChromeDriverManager\n",
    "from selenium.webdriver.common.by import By\n",
    "import time"
   ]
  },
  {
   "cell_type": "code",
   "execution_count": null,
   "metadata": {},
   "outputs": [],
   "source": [
    "url = \"https://www.baseball-almanac.com/hitting/hihr1.shtml\""
   ]
  },
  {
   "cell_type": "code",
   "execution_count": null,
   "metadata": {},
   "outputs": [],
   "source": [
    "driver = webdriver.Chrome(service=ChromeService(ChromeDriverManager().install()))\n",
    "driver.get(url)\n",
    "# time.sleep(30)"
   ]
  },
  {
   "cell_type": "code",
   "execution_count": null,
   "metadata": {},
   "outputs": [],
   "source": [
    "table = driver.find_element(By.CLASS_NAME, 'boxed')"
   ]
  },
  {
   "cell_type": "code",
   "execution_count": null,
   "metadata": {},
   "outputs": [],
   "source": [
    "players = driver.find_elements(By.XPATH, \".//a[contains(@href, 'players/player')]\")\n",
    "home_runs = driver.find_elements(By.XPATH, \".//a[contains(@href, 'players/home_run')]\")"
   ]
  },
  {
   "cell_type": "code",
   "execution_count": null,
   "metadata": {},
   "outputs": [],
   "source": [
    "player_names = []\n",
    "home_runs_totals = []\n",
    "quotes = []\n",
    "bat_hands = []\n",
    "colleges = []\n",
    "\n",
    "for i in range(6):\n",
    "    player = driver.find_elements(By.XPATH, \".//a[contains(@href, 'players/player')]\")[i]\n",
    "    home_run = driver.find_elements(By.XPATH, \".//a[contains(@href, 'players/home_run')]\")[i]\n",
    "    player_names.append(player.text)\n",
    "    home_runs_totals.append(int(home_run.text))\n",
    "    player.click()\n",
    "    quote = driver.find_element(By.XPATH, \".//div[contains(@class, 'topquote')]\").text\n",
    "    info = driver.find_elements(By.XPATH, \".//td[contains(@class, 'biocolpad')]\")\n",
    "    bat_hand = info[19].text\n",
    "    college = info[17].text\n",
    "    quotes.append(quote)\n",
    "    bat_hands.append(bat_hand)\n",
    "    colleges.append(college)\n",
    "    driver.back()\n",
    "    print(\"Back\")\n",
    "\n",
    "# for (player, home_run) in zip(players, home_runs):\n",
    "#     print(player)\n",
    "#     player_names.append(player.text)\n",
    "#     home_runs_totals.append(int(home_run.text))\n",
    "#     player.click()\n",
    "#     driver.back()"
   ]
  },
  {
   "cell_type": "code",
   "execution_count": null,
   "metadata": {},
   "outputs": [],
   "source": [
    "player_names.pop(0)\n",
    "player_names"
   ]
  },
  {
   "cell_type": "code",
   "execution_count": null,
   "metadata": {},
   "outputs": [],
   "source": [
    "home_runs_totals.pop(0)\n",
    "home_runs_totals"
   ]
  },
  {
   "cell_type": "code",
   "execution_count": null,
   "metadata": {},
   "outputs": [],
   "source": [
    "quotes.pop(0)\n",
    "quotes"
   ]
  },
  {
   "cell_type": "code",
   "execution_count": null,
   "metadata": {},
   "outputs": [],
   "source": [
    "bat_hands.pop(0)\n",
    "bat_hands"
   ]
  },
  {
   "cell_type": "code",
   "execution_count": null,
   "metadata": {},
   "outputs": [],
   "source": [
    "colleges.pop(0)\n",
    "colleges"
   ]
  },
  {
   "cell_type": "code",
   "execution_count": null,
   "metadata": {},
   "outputs": [],
   "source": [
    "driver.back()"
   ]
  },
  {
   "cell_type": "code",
   "execution_count": null,
   "metadata": {},
   "outputs": [],
   "source": [
    "driver.quit()"
   ]
  }
 ],
 "metadata": {
  "kernelspec": {
   "display_name": "stat386venv",
   "language": "python",
   "name": "python3"
  },
  "language_info": {
   "codemirror_mode": {
    "name": "ipython",
    "version": 3
   },
   "file_extension": ".py",
   "mimetype": "text/x-python",
   "name": "python",
   "nbconvert_exporter": "python",
   "pygments_lexer": "ipython3",
   "version": "3.11.5"
  }
 },
 "nbformat": 4,
 "nbformat_minor": 2
}
