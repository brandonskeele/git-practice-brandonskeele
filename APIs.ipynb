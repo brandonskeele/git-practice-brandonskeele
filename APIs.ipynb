{
 "cells": [
  {
   "cell_type": "code",
   "execution_count": 1,
   "id": "17e88eb0",
   "metadata": {},
   "outputs": [],
   "source": [
    "import pandas as pd\n",
    "import numpy as np\n",
    "import requests\n",
    "import re\n",
    "import urllib.parse\n",
    "import matplotlib.pyplot as plt\n",
    "import seaborn as sns"
   ]
  },
  {
   "cell_type": "markdown",
   "id": "ebaaa79b",
   "metadata": {},
   "source": [
    "## Official Joke API\n",
    "\n",
    "Generates random jokes (from jokes submitted to API)\n",
    "\n",
    "[Documentation](https://github.com/15Dkatz/official_joke_api)\n"
   ]
  },
  {
   "cell_type": "code",
   "execution_count": 2,
   "id": "7927e849",
   "metadata": {},
   "outputs": [],
   "source": [
    "##baseurl\n",
    "base_url = \"https://official-joke-api.appspot.com/\"\n"
   ]
  },
  {
   "cell_type": "markdown",
   "id": "df1e36b5",
   "metadata": {},
   "source": [
    "#### 10 random jokes"
   ]
  },
  {
   "cell_type": "code",
   "execution_count": 3,
   "id": "c9a4657b",
   "metadata": {},
   "outputs": [],
   "source": [
    "\n",
    "# endpoint for 10 random jokes\n",
    "endpoint = 'random_ten'\n",
    "url = base_url + endpoint"
   ]
  },
  {
   "cell_type": "code",
   "execution_count": 4,
   "id": "82888aa4",
   "metadata": {},
   "outputs": [
    {
     "data": {
      "text/plain": [
       "'https://official-joke-api.appspot.com/random_ten'"
      ]
     },
     "execution_count": 4,
     "metadata": {},
     "output_type": "execute_result"
    }
   ],
   "source": [
    "## What does it look like if you visit this url?\n",
    "url"
   ]
  },
  {
   "cell_type": "code",
   "execution_count": 5,
   "id": "391bc6b9",
   "metadata": {},
   "outputs": [],
   "source": [
    "r = requests.get(url)"
   ]
  },
  {
   "cell_type": "code",
   "execution_count": 6,
   "id": "b3dc3128",
   "metadata": {},
   "outputs": [
    {
     "data": {
      "text/plain": [
       "200"
      ]
     },
     "execution_count": 6,
     "metadata": {},
     "output_type": "execute_result"
    }
   ],
   "source": [
    "r.status_code"
   ]
  },
  {
   "cell_type": "code",
   "execution_count": 6,
   "id": "8de1192f",
   "metadata": {},
   "outputs": [
    {
     "data": {
      "text/plain": [
       "[{'type': 'general',\n",
       "  'setup': 'How did Darth Vader know what Luke was getting for Christmas?',\n",
       "  'punchline': 'He felt his presents.',\n",
       "  'id': 117},\n",
       " {'type': 'general',\n",
       "  'setup': 'What did Romans use to cut pizza before the rolling cutter was invented?',\n",
       "  'punchline': 'Lil Caesars',\n",
       "  'id': 166},\n",
       " {'type': 'programming',\n",
       "  'setup': \"What's the best part about TCP jokes?\",\n",
       "  'punchline': 'I get to keep telling them until you get them.',\n",
       "  'id': 369},\n",
       " {'type': 'general',\n",
       "  'setup': 'What did the digital clock say to the grandfather clock?',\n",
       "  'punchline': 'Look, no hands!',\n",
       "  'id': 171},\n",
       " {'type': 'general',\n",
       "  'setup': 'What do you call a cow with no legs?',\n",
       "  'punchline': 'Ground beef.',\n",
       "  'id': 198},\n",
       " {'type': 'general',\n",
       "  'setup': 'What do you call a group of killer whales playing instruments?',\n",
       "  'punchline': 'An Orca-stra.',\n",
       "  'id': 212},\n",
       " {'type': 'general',\n",
       "  'setup': 'What did the beaver say to the tree?',\n",
       "  'punchline': \"It's been nice gnawing you.\",\n",
       "  'id': 168},\n",
       " {'type': 'general',\n",
       "  'setup': \"What is a vampire's favorite fruit?\",\n",
       "  'punchline': 'A blood orange.',\n",
       "  'id': 246},\n",
       " {'type': 'general',\n",
       "  'setup': 'How come the stadium got hot after the game?',\n",
       "  'punchline': 'Because all of the fans left.',\n",
       "  'id': 116},\n",
       " {'type': 'general',\n",
       "  'setup': 'Why was Cinderalla thrown out of the football team?',\n",
       "  'punchline': 'Because she ran away from the ball.',\n",
       "  'id': 380}]"
      ]
     },
     "execution_count": 6,
     "metadata": {},
     "output_type": "execute_result"
    }
   ],
   "source": [
    "r.json()"
   ]
  },
  {
   "cell_type": "code",
   "execution_count": 7,
   "id": "871c14d7",
   "metadata": {},
   "outputs": [
    {
     "data": {
      "text/html": [
       "<div>\n",
       "<style scoped>\n",
       "    .dataframe tbody tr th:only-of-type {\n",
       "        vertical-align: middle;\n",
       "    }\n",
       "\n",
       "    .dataframe tbody tr th {\n",
       "        vertical-align: top;\n",
       "    }\n",
       "\n",
       "    .dataframe thead th {\n",
       "        text-align: right;\n",
       "    }\n",
       "</style>\n",
       "<table border=\"1\" class=\"dataframe\">\n",
       "  <thead>\n",
       "    <tr style=\"text-align: right;\">\n",
       "      <th></th>\n",
       "      <th>type</th>\n",
       "      <th>setup</th>\n",
       "      <th>punchline</th>\n",
       "      <th>id</th>\n",
       "    </tr>\n",
       "  </thead>\n",
       "  <tbody>\n",
       "    <tr>\n",
       "      <th>0</th>\n",
       "      <td>general</td>\n",
       "      <td>How did Darth Vader know what Luke was getting...</td>\n",
       "      <td>He felt his presents.</td>\n",
       "      <td>117</td>\n",
       "    </tr>\n",
       "    <tr>\n",
       "      <th>1</th>\n",
       "      <td>general</td>\n",
       "      <td>What did Romans use to cut pizza before the ro...</td>\n",
       "      <td>Lil Caesars</td>\n",
       "      <td>166</td>\n",
       "    </tr>\n",
       "    <tr>\n",
       "      <th>2</th>\n",
       "      <td>programming</td>\n",
       "      <td>What's the best part about TCP jokes?</td>\n",
       "      <td>I get to keep telling them until you get them.</td>\n",
       "      <td>369</td>\n",
       "    </tr>\n",
       "    <tr>\n",
       "      <th>3</th>\n",
       "      <td>general</td>\n",
       "      <td>What did the digital clock say to the grandfat...</td>\n",
       "      <td>Look, no hands!</td>\n",
       "      <td>171</td>\n",
       "    </tr>\n",
       "    <tr>\n",
       "      <th>4</th>\n",
       "      <td>general</td>\n",
       "      <td>What do you call a cow with no legs?</td>\n",
       "      <td>Ground beef.</td>\n",
       "      <td>198</td>\n",
       "    </tr>\n",
       "    <tr>\n",
       "      <th>5</th>\n",
       "      <td>general</td>\n",
       "      <td>What do you call a group of killer whales play...</td>\n",
       "      <td>An Orca-stra.</td>\n",
       "      <td>212</td>\n",
       "    </tr>\n",
       "    <tr>\n",
       "      <th>6</th>\n",
       "      <td>general</td>\n",
       "      <td>What did the beaver say to the tree?</td>\n",
       "      <td>It's been nice gnawing you.</td>\n",
       "      <td>168</td>\n",
       "    </tr>\n",
       "    <tr>\n",
       "      <th>7</th>\n",
       "      <td>general</td>\n",
       "      <td>What is a vampire's favorite fruit?</td>\n",
       "      <td>A blood orange.</td>\n",
       "      <td>246</td>\n",
       "    </tr>\n",
       "    <tr>\n",
       "      <th>8</th>\n",
       "      <td>general</td>\n",
       "      <td>How come the stadium got hot after the game?</td>\n",
       "      <td>Because all of the fans left.</td>\n",
       "      <td>116</td>\n",
       "    </tr>\n",
       "    <tr>\n",
       "      <th>9</th>\n",
       "      <td>general</td>\n",
       "      <td>Why was Cinderalla thrown out of the football ...</td>\n",
       "      <td>Because she ran away from the ball.</td>\n",
       "      <td>380</td>\n",
       "    </tr>\n",
       "  </tbody>\n",
       "</table>\n",
       "</div>"
      ],
      "text/plain": [
       "          type                                              setup  \\\n",
       "0      general  How did Darth Vader know what Luke was getting...   \n",
       "1      general  What did Romans use to cut pizza before the ro...   \n",
       "2  programming              What's the best part about TCP jokes?   \n",
       "3      general  What did the digital clock say to the grandfat...   \n",
       "4      general               What do you call a cow with no legs?   \n",
       "5      general  What do you call a group of killer whales play...   \n",
       "6      general               What did the beaver say to the tree?   \n",
       "7      general                What is a vampire's favorite fruit?   \n",
       "8      general       How come the stadium got hot after the game?   \n",
       "9      general  Why was Cinderalla thrown out of the football ...   \n",
       "\n",
       "                                        punchline   id  \n",
       "0                           He felt his presents.  117  \n",
       "1                                     Lil Caesars  166  \n",
       "2  I get to keep telling them until you get them.  369  \n",
       "3                                 Look, no hands!  171  \n",
       "4                                    Ground beef.  198  \n",
       "5                                   An Orca-stra.  212  \n",
       "6                     It's been nice gnawing you.  168  \n",
       "7                                 A blood orange.  246  \n",
       "8                   Because all of the fans left.  116  \n",
       "9             Because she ran away from the ball.  380  "
      ]
     },
     "execution_count": 7,
     "metadata": {},
     "output_type": "execute_result"
    }
   ],
   "source": [
    "pd.json_normalize(r.json())"
   ]
  },
  {
   "cell_type": "markdown",
   "id": "c32e6f6d",
   "metadata": {},
   "source": [
    "#### Joke by id"
   ]
  },
  {
   "cell_type": "code",
   "execution_count": 8,
   "id": "1e28a5a8",
   "metadata": {},
   "outputs": [
    {
     "data": {
      "text/plain": [
       "True"
      ]
     },
     "execution_count": 8,
     "metadata": {},
     "output_type": "execute_result"
    }
   ],
   "source": [
    "## endpoint for joke by id\n",
    "\n",
    "endpoint = 'jokes/25'\n",
    "r = requests.get(base_url+endpoint)\n",
    "r.ok"
   ]
  },
  {
   "cell_type": "code",
   "execution_count": 9,
   "id": "7c262b6c",
   "metadata": {},
   "outputs": [
    {
     "data": {
      "text/plain": [
       "{'type': 'programming',\n",
       " 'setup': 'How many programmers does it take to change a lightbulb?',\n",
       " 'punchline': \"None that's a hardware problem\",\n",
       " 'id': 25}"
      ]
     },
     "execution_count": 9,
     "metadata": {},
     "output_type": "execute_result"
    }
   ],
   "source": [
    "r.json()"
   ]
  },
  {
   "cell_type": "code",
   "execution_count": null,
   "id": "ca09c3b0",
   "metadata": {},
   "outputs": [],
   "source": []
  },
  {
   "cell_type": "markdown",
   "id": "438e47c0",
   "metadata": {},
   "source": [
    "## Zippopotam API\n",
    "\n",
    "Postal code lookup.\n",
    "\n",
    "Endpoints:\n",
    "* Places by postal code `/{country}/{postalcode}`\n",
    "* Postal codes by place `/{country}/{state}/{place}`\n",
    "* Places near postal code `/nearby/{country}/{postalcode}`\n",
    "\n",
    "[Documentation](https://docs.zippopotam.us/docs/getting-started/) and also [this page](https://www.zippopotam.us/)"
   ]
  },
  {
   "cell_type": "code",
   "execution_count": 10,
   "id": "56947cd9",
   "metadata": {},
   "outputs": [],
   "source": [
    "base_url = 'https://api.zippopotam.us'"
   ]
  },
  {
   "cell_type": "markdown",
   "id": "5dbb650b",
   "metadata": {},
   "source": [
    "#### places by postal code"
   ]
  },
  {
   "cell_type": "code",
   "execution_count": 11,
   "id": "4c36e8cc",
   "metadata": {},
   "outputs": [
    {
     "data": {
      "text/plain": [
       "'https://api.zippopotam.us/us/84602'"
      ]
     },
     "execution_count": 11,
     "metadata": {},
     "output_type": "execute_result"
    }
   ],
   "source": [
    "# places by postal code\n",
    "options = [\"us\", \"84602\"] # [\"county\", \"postalcode\"]\n",
    "url = f\"{base_url}/{'/'.join(options)}\"\n",
    "url\n"
   ]
  },
  {
   "cell_type": "code",
   "execution_count": 12,
   "id": "9410a45b",
   "metadata": {},
   "outputs": [
    {
     "data": {
      "text/plain": [
       "True"
      ]
     },
     "execution_count": 12,
     "metadata": {},
     "output_type": "execute_result"
    }
   ],
   "source": [
    "r = requests.get(url)\n",
    "r.ok"
   ]
  },
  {
   "cell_type": "code",
   "execution_count": 13,
   "id": "ee031abf",
   "metadata": {},
   "outputs": [
    {
     "data": {
      "text/plain": [
       "{'post code': '84602',\n",
       " 'country': 'United States',\n",
       " 'country abbreviation': 'US',\n",
       " 'places': [{'place name': 'Provo',\n",
       "   'longitude': '-111.7325',\n",
       "   'state': 'Utah',\n",
       "   'state abbreviation': 'UT',\n",
       "   'latitude': '40.3563'}]}"
      ]
     },
     "execution_count": 13,
     "metadata": {},
     "output_type": "execute_result"
    }
   ],
   "source": [
    "r.json()"
   ]
  },
  {
   "cell_type": "markdown",
   "id": "88920f9c",
   "metadata": {},
   "source": [
    "#### Postal codes by place"
   ]
  },
  {
   "cell_type": "code",
   "execution_count": 14,
   "id": "433b7f39",
   "metadata": {},
   "outputs": [
    {
     "data": {
      "text/plain": [
       "True"
      ]
     },
     "execution_count": 14,
     "metadata": {},
     "output_type": "execute_result"
    }
   ],
   "source": [
    "options = [\"us\", \"tx\", \"houston\"]\n",
    "\n",
    "## This line will ensure that the url is formed correctly (for example if there are spaces)\n",
    "encoded_options = [urllib.parse.quote(option) for option in options]\n",
    "url = f\"{base_url}/{'/'.join(encoded_options)}\"\n",
    "r = requests.get(url)\n",
    "r.ok\n"
   ]
  },
  {
   "cell_type": "code",
   "execution_count": 15,
   "id": "3485d87f",
   "metadata": {},
   "outputs": [
    {
     "data": {
      "text/plain": [
       "dict_keys(['country abbreviation', 'places', 'country', 'place name', 'state', 'state abbreviation'])"
      ]
     },
     "execution_count": 15,
     "metadata": {},
     "output_type": "execute_result"
    }
   ],
   "source": [
    "r.json().keys()"
   ]
  },
  {
   "cell_type": "code",
   "execution_count": 16,
   "id": "3b8d85e1",
   "metadata": {},
   "outputs": [
    {
     "data": {
      "text/html": [
       "<div>\n",
       "<style scoped>\n",
       "    .dataframe tbody tr th:only-of-type {\n",
       "        vertical-align: middle;\n",
       "    }\n",
       "\n",
       "    .dataframe tbody tr th {\n",
       "        vertical-align: top;\n",
       "    }\n",
       "\n",
       "    .dataframe thead th {\n",
       "        text-align: right;\n",
       "    }\n",
       "</style>\n",
       "<table border=\"1\" class=\"dataframe\">\n",
       "  <thead>\n",
       "    <tr style=\"text-align: right;\">\n",
       "      <th></th>\n",
       "      <th>place name</th>\n",
       "      <th>longitude</th>\n",
       "      <th>post code</th>\n",
       "      <th>latitude</th>\n",
       "    </tr>\n",
       "  </thead>\n",
       "  <tbody>\n",
       "    <tr>\n",
       "      <th>0</th>\n",
       "      <td>Houston</td>\n",
       "      <td>-95.3098</td>\n",
       "      <td>77001</td>\n",
       "      <td>29.8131</td>\n",
       "    </tr>\n",
       "    <tr>\n",
       "      <th>1</th>\n",
       "      <td>Houston</td>\n",
       "      <td>-95.3594</td>\n",
       "      <td>77002</td>\n",
       "      <td>29.7594</td>\n",
       "    </tr>\n",
       "    <tr>\n",
       "      <th>2</th>\n",
       "      <td>Houston</td>\n",
       "      <td>-95.3391</td>\n",
       "      <td>77003</td>\n",
       "      <td>29.7489</td>\n",
       "    </tr>\n",
       "    <tr>\n",
       "      <th>3</th>\n",
       "      <td>Houston</td>\n",
       "      <td>-95.3625</td>\n",
       "      <td>77004</td>\n",
       "      <td>29.7247</td>\n",
       "    </tr>\n",
       "    <tr>\n",
       "      <th>4</th>\n",
       "      <td>Houston</td>\n",
       "      <td>-95.4263</td>\n",
       "      <td>77005</td>\n",
       "      <td>29.7179</td>\n",
       "    </tr>\n",
       "    <tr>\n",
       "      <th>...</th>\n",
       "      <td>...</td>\n",
       "      <td>...</td>\n",
       "      <td>...</td>\n",
       "      <td>...</td>\n",
       "    </tr>\n",
       "    <tr>\n",
       "      <th>188</th>\n",
       "      <td>Houston</td>\n",
       "      <td>-95.4342</td>\n",
       "      <td>77297</td>\n",
       "      <td>29.834</td>\n",
       "    </tr>\n",
       "    <tr>\n",
       "      <th>189</th>\n",
       "      <td>Houston</td>\n",
       "      <td>-95.4342</td>\n",
       "      <td>77298</td>\n",
       "      <td>29.834</td>\n",
       "    </tr>\n",
       "    <tr>\n",
       "      <th>190</th>\n",
       "      <td>Houston</td>\n",
       "      <td>-95.4342</td>\n",
       "      <td>77299</td>\n",
       "      <td>29.834</td>\n",
       "    </tr>\n",
       "    <tr>\n",
       "      <th>191</th>\n",
       "      <td>North Houston</td>\n",
       "      <td>-95.4342</td>\n",
       "      <td>77315</td>\n",
       "      <td>29.834</td>\n",
       "    </tr>\n",
       "    <tr>\n",
       "      <th>192</th>\n",
       "      <td>South Houston</td>\n",
       "      <td>-95.2258</td>\n",
       "      <td>77587</td>\n",
       "      <td>29.6601</td>\n",
       "    </tr>\n",
       "  </tbody>\n",
       "</table>\n",
       "<p>193 rows × 4 columns</p>\n",
       "</div>"
      ],
      "text/plain": [
       "        place name longitude post code latitude\n",
       "0          Houston  -95.3098     77001  29.8131\n",
       "1          Houston  -95.3594     77002  29.7594\n",
       "2          Houston  -95.3391     77003  29.7489\n",
       "3          Houston  -95.3625     77004  29.7247\n",
       "4          Houston  -95.4263     77005  29.7179\n",
       "..             ...       ...       ...      ...\n",
       "188        Houston  -95.4342     77297   29.834\n",
       "189        Houston  -95.4342     77298   29.834\n",
       "190        Houston  -95.4342     77299   29.834\n",
       "191  North Houston  -95.4342     77315   29.834\n",
       "192  South Houston  -95.2258     77587  29.6601\n",
       "\n",
       "[193 rows x 4 columns]"
      ]
     },
     "execution_count": 16,
     "metadata": {},
     "output_type": "execute_result"
    }
   ],
   "source": [
    "pd.json_normalize(r.json().get('places'))"
   ]
  },
  {
   "cell_type": "code",
   "execution_count": 17,
   "id": "a8787c50",
   "metadata": {},
   "outputs": [
    {
     "name": "stdout",
     "output_type": "stream",
     "text": [
      "200\n",
      "https://api.zippopotam.us/us/mo/saint%20louis\n"
     ]
    }
   ],
   "source": [
    "## Try another place\n",
    "options = [\"us\", \"mo\", \"saint louis\"]\n",
    "\n",
    "## This line will ensure that the url is formed correctly (for example if there are spaces)\n",
    "encoded_options = [urllib.parse.quote(option) for option in options]\n",
    "url = f\"{base_url}/{'/'.join(encoded_options)}\"\n",
    "r = requests.get(url)\n",
    "print(r.status_code)\n",
    "print(r.url)"
   ]
  },
  {
   "cell_type": "code",
   "execution_count": 19,
   "id": "baa4cf41",
   "metadata": {},
   "outputs": [
    {
     "data": {
      "text/html": [
       "<div>\n",
       "<style scoped>\n",
       "    .dataframe tbody tr th:only-of-type {\n",
       "        vertical-align: middle;\n",
       "    }\n",
       "\n",
       "    .dataframe tbody tr th {\n",
       "        vertical-align: top;\n",
       "    }\n",
       "\n",
       "    .dataframe thead th {\n",
       "        text-align: right;\n",
       "    }\n",
       "</style>\n",
       "<table border=\"1\" class=\"dataframe\">\n",
       "  <thead>\n",
       "    <tr style=\"text-align: right;\">\n",
       "      <th></th>\n",
       "      <th>place name</th>\n",
       "      <th>longitude</th>\n",
       "      <th>post code</th>\n",
       "      <th>latitude</th>\n",
       "    </tr>\n",
       "  </thead>\n",
       "  <tbody>\n",
       "    <tr>\n",
       "      <th>0</th>\n",
       "      <td>Saint Louis</td>\n",
       "      <td>-90.1913</td>\n",
       "      <td>63101</td>\n",
       "      <td>38.6346</td>\n",
       "    </tr>\n",
       "    <tr>\n",
       "      <th>1</th>\n",
       "      <td>Saint Louis</td>\n",
       "      <td>-90.1864</td>\n",
       "      <td>63102</td>\n",
       "      <td>38.6352</td>\n",
       "    </tr>\n",
       "    <tr>\n",
       "      <th>2</th>\n",
       "      <td>Saint Louis</td>\n",
       "      <td>-90.2164</td>\n",
       "      <td>63103</td>\n",
       "      <td>38.6332</td>\n",
       "    </tr>\n",
       "    <tr>\n",
       "      <th>3</th>\n",
       "      <td>Saint Louis</td>\n",
       "      <td>-90.2185</td>\n",
       "      <td>63104</td>\n",
       "      <td>38.6128</td>\n",
       "    </tr>\n",
       "    <tr>\n",
       "      <th>4</th>\n",
       "      <td>Saint Louis</td>\n",
       "      <td>-90.3264</td>\n",
       "      <td>63105</td>\n",
       "      <td>38.6459</td>\n",
       "    </tr>\n",
       "    <tr>\n",
       "      <th>...</th>\n",
       "      <td>...</td>\n",
       "      <td>...</td>\n",
       "      <td>...</td>\n",
       "      <td>...</td>\n",
       "    </tr>\n",
       "    <tr>\n",
       "      <th>68</th>\n",
       "      <td>Saint Louis</td>\n",
       "      <td>-90.2435</td>\n",
       "      <td>63196</td>\n",
       "      <td>38.6531</td>\n",
       "    </tr>\n",
       "    <tr>\n",
       "      <th>69</th>\n",
       "      <td>Saint Louis</td>\n",
       "      <td>-90.2435</td>\n",
       "      <td>63197</td>\n",
       "      <td>38.6531</td>\n",
       "    </tr>\n",
       "    <tr>\n",
       "      <th>70</th>\n",
       "      <td>Saint Louis</td>\n",
       "      <td>-90.4271</td>\n",
       "      <td>63198</td>\n",
       "      <td>38.6383</td>\n",
       "    </tr>\n",
       "    <tr>\n",
       "      <th>71</th>\n",
       "      <td>Saint Louis</td>\n",
       "      <td>-90.2435</td>\n",
       "      <td>63199</td>\n",
       "      <td>38.6531</td>\n",
       "    </tr>\n",
       "    <tr>\n",
       "      <th>72</th>\n",
       "      <td>Lake Saint Louis</td>\n",
       "      <td>-90.7854</td>\n",
       "      <td>63367</td>\n",
       "      <td>38.7936</td>\n",
       "    </tr>\n",
       "  </tbody>\n",
       "</table>\n",
       "<p>73 rows × 4 columns</p>\n",
       "</div>"
      ],
      "text/plain": [
       "          place name longitude post code latitude\n",
       "0        Saint Louis  -90.1913     63101  38.6346\n",
       "1        Saint Louis  -90.1864     63102  38.6352\n",
       "2        Saint Louis  -90.2164     63103  38.6332\n",
       "3        Saint Louis  -90.2185     63104  38.6128\n",
       "4        Saint Louis  -90.3264     63105  38.6459\n",
       "..               ...       ...       ...      ...\n",
       "68       Saint Louis  -90.2435     63196  38.6531\n",
       "69       Saint Louis  -90.2435     63197  38.6531\n",
       "70       Saint Louis  -90.4271     63198  38.6383\n",
       "71       Saint Louis  -90.2435     63199  38.6531\n",
       "72  Lake Saint Louis  -90.7854     63367  38.7936\n",
       "\n",
       "[73 rows x 4 columns]"
      ]
     },
     "execution_count": 19,
     "metadata": {},
     "output_type": "execute_result"
    }
   ],
   "source": [
    "pd.json_normalize(r.json().get('places'))"
   ]
  },
  {
   "cell_type": "markdown",
   "id": "fba47cf6",
   "metadata": {},
   "source": [
    "## Free Geocoding API\n",
    "\n",
    "[Documentation](https://geocode.maps.co/)\n",
    "\n",
    "* The endpoints show that the query parameters should be entered as url parameters (indicated by the `?` in the url)\n",
    "* We can easily specify the query options using the `params` argument in the `.get` method\n",
    "* In order to do this, set up a dictionary such that \n",
    "    * the key is the parameter name (indicated in the documentation)\n",
    "    * the value is the our query choice\n",
    "* `requests.get()` will automatically make sure that our parameters are formatted into valid urls\n",
    "\n",
    "Endpoints:\n",
    "* Forward geocode (`https://geocode.maps.co/search?q={address}`)"
   ]
  },
  {
   "cell_type": "code",
   "execution_count": 18,
   "id": "37b22467",
   "metadata": {},
   "outputs": [
    {
     "name": "stdout",
     "output_type": "stream",
     "text": [
      "200\n",
      "https://geocode.maps.co/search?q=709+Smith+Road+Fremont+OH+43420\n"
     ]
    }
   ],
   "source": [
    "base_url = \"https://geocode.maps.co\"\n",
    "forward = '/search'\n",
    "\n",
    "params = {'q':'709 Smith Road Fremont OH 43420'}\n",
    "\n",
    "r = requests.get(base_url + forward, params = params)\n",
    "print(r.status_code)\n",
    "print(r.url)"
   ]
  },
  {
   "cell_type": "code",
   "execution_count": 19,
   "id": "8f6e78d4",
   "metadata": {},
   "outputs": [
    {
     "data": {
      "text/plain": [
       "[{'place_id': 329359446,\n",
       "  'licence': 'Data © OpenStreetMap contributors, ODbL 1.0. https://osm.org/copyright',\n",
       "  'osm_type': 'way',\n",
       "  'osm_id': 19246248,\n",
       "  'boundingbox': ['41.256786', '41.3410948', '-83.092023', '-83.0900001'],\n",
       "  'lat': '41.299294',\n",
       "  'lon': '-83.091367',\n",
       "  'display_name': 'Smith Road, Fremont, Sandusky County, Ohio, 43420, United States',\n",
       "  'class': 'highway',\n",
       "  'type': 'tertiary',\n",
       "  'importance': 0.6200099999999998}]"
      ]
     },
     "execution_count": 19,
     "metadata": {},
     "output_type": "execute_result"
    }
   ],
   "source": [
    "r.json()"
   ]
  },
  {
   "cell_type": "markdown",
   "id": "37e7fde0",
   "metadata": {},
   "source": [
    "Endpoints\n",
    "* Reverse geocode (`https://geocode.maps.co/reverse?lat={latitude}&lon={longitude}`)"
   ]
  },
  {
   "cell_type": "code",
   "execution_count": 20,
   "id": "d2708c91",
   "metadata": {},
   "outputs": [
    {
     "name": "stdout",
     "output_type": "stream",
     "text": [
      "401\n",
      "https://geocode.maps.co/reverse?lat=41.299294&lon=-83.091367\n"
     ]
    }
   ],
   "source": [
    "reverse = '/reverse'\n",
    "\n",
    "params = {'lat': '41.299294', 'lon': '-83.091367'}\n",
    "\n",
    "r = requests.get(base_url + reverse, params = params)\n",
    "print(r.status_code)\n",
    "print(r.url)"
   ]
  },
  {
   "cell_type": "code",
   "execution_count": 21,
   "id": "45bd13c9",
   "metadata": {},
   "outputs": [
    {
     "ename": "JSONDecodeError",
     "evalue": "Expecting value: line 1 column 1 (char 0)",
     "output_type": "error",
     "traceback": [
      "\u001b[0;31m---------------------------------------------------------------------------\u001b[0m",
      "\u001b[0;31mJSONDecodeError\u001b[0m                           Traceback (most recent call last)",
      "File \u001b[0;32m~/anaconda3/lib/python3.11/site-packages/requests/models.py:971\u001b[0m, in \u001b[0;36mResponse.json\u001b[0;34m(self, **kwargs)\u001b[0m\n\u001b[1;32m    970\u001b[0m \u001b[38;5;28;01mtry\u001b[39;00m:\n\u001b[0;32m--> 971\u001b[0m     \u001b[38;5;28;01mreturn\u001b[39;00m complexjson\u001b[38;5;241m.\u001b[39mloads(\u001b[38;5;28mself\u001b[39m\u001b[38;5;241m.\u001b[39mtext, \u001b[38;5;241m*\u001b[39m\u001b[38;5;241m*\u001b[39mkwargs)\n\u001b[1;32m    972\u001b[0m \u001b[38;5;28;01mexcept\u001b[39;00m JSONDecodeError \u001b[38;5;28;01mas\u001b[39;00m e:\n\u001b[1;32m    973\u001b[0m     \u001b[38;5;66;03m# Catch JSON-related errors and raise as requests.JSONDecodeError\u001b[39;00m\n\u001b[1;32m    974\u001b[0m     \u001b[38;5;66;03m# This aliases json.JSONDecodeError and simplejson.JSONDecodeError\u001b[39;00m\n",
      "File \u001b[0;32m~/anaconda3/lib/python3.11/json/__init__.py:346\u001b[0m, in \u001b[0;36mloads\u001b[0;34m(s, cls, object_hook, parse_float, parse_int, parse_constant, object_pairs_hook, **kw)\u001b[0m\n\u001b[1;32m    343\u001b[0m \u001b[38;5;28;01mif\u001b[39;00m (\u001b[38;5;28mcls\u001b[39m \u001b[38;5;129;01mis\u001b[39;00m \u001b[38;5;28;01mNone\u001b[39;00m \u001b[38;5;129;01mand\u001b[39;00m object_hook \u001b[38;5;129;01mis\u001b[39;00m \u001b[38;5;28;01mNone\u001b[39;00m \u001b[38;5;129;01mand\u001b[39;00m\n\u001b[1;32m    344\u001b[0m         parse_int \u001b[38;5;129;01mis\u001b[39;00m \u001b[38;5;28;01mNone\u001b[39;00m \u001b[38;5;129;01mand\u001b[39;00m parse_float \u001b[38;5;129;01mis\u001b[39;00m \u001b[38;5;28;01mNone\u001b[39;00m \u001b[38;5;129;01mand\u001b[39;00m\n\u001b[1;32m    345\u001b[0m         parse_constant \u001b[38;5;129;01mis\u001b[39;00m \u001b[38;5;28;01mNone\u001b[39;00m \u001b[38;5;129;01mand\u001b[39;00m object_pairs_hook \u001b[38;5;129;01mis\u001b[39;00m \u001b[38;5;28;01mNone\u001b[39;00m \u001b[38;5;129;01mand\u001b[39;00m \u001b[38;5;129;01mnot\u001b[39;00m kw):\n\u001b[0;32m--> 346\u001b[0m     \u001b[38;5;28;01mreturn\u001b[39;00m _default_decoder\u001b[38;5;241m.\u001b[39mdecode(s)\n\u001b[1;32m    347\u001b[0m \u001b[38;5;28;01mif\u001b[39;00m \u001b[38;5;28mcls\u001b[39m \u001b[38;5;129;01mis\u001b[39;00m \u001b[38;5;28;01mNone\u001b[39;00m:\n",
      "File \u001b[0;32m~/anaconda3/lib/python3.11/json/decoder.py:337\u001b[0m, in \u001b[0;36mJSONDecoder.decode\u001b[0;34m(self, s, _w)\u001b[0m\n\u001b[1;32m    333\u001b[0m \u001b[38;5;250m\u001b[39m\u001b[38;5;124;03m\"\"\"Return the Python representation of ``s`` (a ``str`` instance\u001b[39;00m\n\u001b[1;32m    334\u001b[0m \u001b[38;5;124;03mcontaining a JSON document).\u001b[39;00m\n\u001b[1;32m    335\u001b[0m \n\u001b[1;32m    336\u001b[0m \u001b[38;5;124;03m\"\"\"\u001b[39;00m\n\u001b[0;32m--> 337\u001b[0m obj, end \u001b[38;5;241m=\u001b[39m \u001b[38;5;28mself\u001b[39m\u001b[38;5;241m.\u001b[39mraw_decode(s, idx\u001b[38;5;241m=\u001b[39m_w(s, \u001b[38;5;241m0\u001b[39m)\u001b[38;5;241m.\u001b[39mend())\n\u001b[1;32m    338\u001b[0m end \u001b[38;5;241m=\u001b[39m _w(s, end)\u001b[38;5;241m.\u001b[39mend()\n",
      "File \u001b[0;32m~/anaconda3/lib/python3.11/json/decoder.py:355\u001b[0m, in \u001b[0;36mJSONDecoder.raw_decode\u001b[0;34m(self, s, idx)\u001b[0m\n\u001b[1;32m    354\u001b[0m \u001b[38;5;28;01mexcept\u001b[39;00m \u001b[38;5;167;01mStopIteration\u001b[39;00m \u001b[38;5;28;01mas\u001b[39;00m err:\n\u001b[0;32m--> 355\u001b[0m     \u001b[38;5;28;01mraise\u001b[39;00m JSONDecodeError(\u001b[38;5;124m\"\u001b[39m\u001b[38;5;124mExpecting value\u001b[39m\u001b[38;5;124m\"\u001b[39m, s, err\u001b[38;5;241m.\u001b[39mvalue) \u001b[38;5;28;01mfrom\u001b[39;00m \u001b[38;5;28;01mNone\u001b[39;00m\n\u001b[1;32m    356\u001b[0m \u001b[38;5;28;01mreturn\u001b[39;00m obj, end\n",
      "\u001b[0;31mJSONDecodeError\u001b[0m: Expecting value: line 1 column 1 (char 0)",
      "\nDuring handling of the above exception, another exception occurred:\n",
      "\u001b[0;31mJSONDecodeError\u001b[0m                           Traceback (most recent call last)",
      "Cell \u001b[0;32mIn[21], line 1\u001b[0m\n\u001b[0;32m----> 1\u001b[0m r\u001b[38;5;241m.\u001b[39mjson()\n",
      "File \u001b[0;32m~/anaconda3/lib/python3.11/site-packages/requests/models.py:975\u001b[0m, in \u001b[0;36mResponse.json\u001b[0;34m(self, **kwargs)\u001b[0m\n\u001b[1;32m    971\u001b[0m     \u001b[38;5;28;01mreturn\u001b[39;00m complexjson\u001b[38;5;241m.\u001b[39mloads(\u001b[38;5;28mself\u001b[39m\u001b[38;5;241m.\u001b[39mtext, \u001b[38;5;241m*\u001b[39m\u001b[38;5;241m*\u001b[39mkwargs)\n\u001b[1;32m    972\u001b[0m \u001b[38;5;28;01mexcept\u001b[39;00m JSONDecodeError \u001b[38;5;28;01mas\u001b[39;00m e:\n\u001b[1;32m    973\u001b[0m     \u001b[38;5;66;03m# Catch JSON-related errors and raise as requests.JSONDecodeError\u001b[39;00m\n\u001b[1;32m    974\u001b[0m     \u001b[38;5;66;03m# This aliases json.JSONDecodeError and simplejson.JSONDecodeError\u001b[39;00m\n\u001b[0;32m--> 975\u001b[0m     \u001b[38;5;28;01mraise\u001b[39;00m RequestsJSONDecodeError(e\u001b[38;5;241m.\u001b[39mmsg, e\u001b[38;5;241m.\u001b[39mdoc, e\u001b[38;5;241m.\u001b[39mpos)\n",
      "\u001b[0;31mJSONDecodeError\u001b[0m: Expecting value: line 1 column 1 (char 0)"
     ]
    }
   ],
   "source": [
    "r.json()"
   ]
  },
  {
   "cell_type": "markdown",
   "id": "42f64fce",
   "metadata": {},
   "source": [
    "## NASA APOD API\n",
    "\n",
    "[NASA APIs](https://api.nasa.gov/).  \n",
    "* Sign up for an API key by filling out the form\n",
    "* Check your email for the API key\n",
    "* Create a .txt file and save *just the text of the api key* in the file\n",
    "    * For example, in the code below, my API key is saved in a file called \"`nasa_api_key.txt`\"\n",
    "\n",
    "#### APOD Query Parameters\n",
    "\n",
    "| Parameter   | Type        | Default   | Description                                                                                                      |\n",
    "|-------------|-------------|-----------|------------------------------------------------------------------------------------------------------------------|\n",
    "| date        | YYYY-MM-DD  | today     | The date of the APOD image to retrieve                                                                           |\n",
    "| start_date  | YYYY-MM-DD  | none      | The start of a date range, when requesting date for a range of dates. Cannot be used with date.                   |\n",
    "| end_date    | YYYY-MM-DD  | today     | The end of the date range, when used with start_date.                                                            |\n",
    "| count       | int         | none      | If this is specified then count randomly chosen images will be returned. Cannot be used with date or start_date and end_date. |\n",
    "| thumbs      | bool        | False     | Return the URL of video thumbnail. If an APOD is not a video, this parameter is ignored.                          |\n",
    "| api_key     | string      | DEMO_KEY  | api.nasa.gov key for expanded usage                                                                              |\n",
    "\n",
    "Example query:\n",
    "```\n",
    "https://api.nasa.gov/planetary/apod?api_key=DEMO_KEY\n",
    "```"
   ]
  },
  {
   "cell_type": "code",
   "execution_count": 27,
   "id": "7745cdaa",
   "metadata": {},
   "outputs": [],
   "source": [
    "base_url = \"https://api.nasa.gov/planetary/apod\""
   ]
  },
  {
   "cell_type": "code",
   "execution_count": 28,
   "id": "bfa5536c",
   "metadata": {},
   "outputs": [],
   "source": [
    "# set the text of my api key to a variable called `nasa_key`\n",
    "with open('nasa_api_key.txt', 'r') as file:\n",
    "    nasa_key = file.read()"
   ]
  },
  {
   "cell_type": "markdown",
   "id": "4d58826c",
   "metadata": {},
   "source": [
    "Let's query all the APODs from Oct 1, 2023 - Oct 7, 2023\n",
    "* The documentation specifies that query parameters should be entered as url parameters (indicated by the `?` in the url)\n",
    "* We can easily specify the query options using the `params` argument in the `.get` method\n",
    "* In order to do this, set up a dictionary such that \n",
    "    * the key is the parameter name (indicated in the documentation)\n",
    "    * the value is the our query choice\n",
    "* `requests.get()` will automatically make sure that our parameters are formatted into valid urls\n"
   ]
  },
  {
   "cell_type": "code",
   "execution_count": 29,
   "id": "196c5e9e",
   "metadata": {},
   "outputs": [],
   "source": [
    "params = {'api_key':nasa_key,\n",
    "          'start_date': '2023-10-01',\n",
    "          'end_date': '2023-10-07'}"
   ]
  },
  {
   "cell_type": "code",
   "execution_count": 30,
   "id": "84611fca",
   "metadata": {},
   "outputs": [],
   "source": [
    "r = requests.get(base_url, params=params)"
   ]
  },
  {
   "cell_type": "code",
   "execution_count": 24,
   "id": "e2f6029d",
   "metadata": {},
   "outputs": [
    {
     "data": {
      "text/plain": [
       "'https://api.nasa.gov/planetary/apod?api_key=CrP99j76YYTvZd7kjERfwcjB9pgPyLX5881ymDIS&start_date=2023-10-01&end_date=2023-10-07'"
      ]
     },
     "execution_count": 24,
     "metadata": {},
     "output_type": "execute_result"
    }
   ],
   "source": [
    "r.url"
   ]
  },
  {
   "cell_type": "code",
   "execution_count": 25,
   "id": "d50699a8",
   "metadata": {},
   "outputs": [
    {
     "data": {
      "text/plain": [
       "200"
      ]
     },
     "execution_count": 25,
     "metadata": {},
     "output_type": "execute_result"
    }
   ],
   "source": [
    "r.status_code"
   ]
  },
  {
   "cell_type": "code",
   "execution_count": 26,
   "id": "c46f26c5",
   "metadata": {},
   "outputs": [
    {
     "data": {
      "text/plain": [
       "[{'copyright': '\\nMaxime Daviron\\n',\n",
       "  'date': '2023-10-01',\n",
       "  'explanation': 'A good place to see a ring-of-fire eclipse, it seemed, would be from a desert. In a desert, there should be relatively few obscuring clouds and trees.  Therefore late December of 2019, a group of photographers traveled to the United Arab Emirates and Rub al-Khali, the largest continuous sand desert in world, to capture clear images of an unusual eclipse that would be passing over.  A ring-of-fire eclipse is an annular eclipse that occurs when the Moon is far enough away on its elliptical orbit around the Earth so that it appears too small, angularly, to cover the entire Sun. At the maximum of an annular eclipse, the edges of the Sun can be seen all around the edges of the Moon, so that the Moon appears to be a dark spot that covers most -- but not all -- of the Sun. This particular eclipse, they knew, would peak soon after sunrise.  After seeking out such a dry and barren place, it turned out that some of the most interesting eclipse images actually included a tree in the foreground, because, in addition to the sand dunes, the tree gave the surreal background a contrasting sense of normalcy, scale, and texture.  On Saturday, October 14, a new ring of fire will be visible through clear skies from a thin swath crossing both North and South America.',\n",
       "  'hdurl': 'https://apod.nasa.gov/apod/image/2310/DesertEclipse_Daviron_2000.jpg',\n",
       "  'media_type': 'image',\n",
       "  'service_version': 'v1',\n",
       "  'title': 'A Desert Eclipse',\n",
       "  'url': 'https://apod.nasa.gov/apod/image/2310/DesertEclipse_Daviron_960.jpg'},\n",
       " {'copyright': '\\nNicolas Escurat\\n',\n",
       "  'date': '2023-10-02',\n",
       "  'explanation': 'Sometimes lightning occurs out near space.  One such lightning type is red sprite lightning, which has only been photographed and studied on Earth over the past 25 years.  The origins of all types of lightning remain topics for research, and scientists are still trying to figure out why red sprite lightning occurs at all.  Research has shown that following a powerful positive cloud-to-ground lightning strike, red sprites may start as 100-meter balls of ionized air that shoot down from about 80-km high at 10 percent the speed of light. They are quickly followed by a group of upward streaking ionized balls. Featured here is an extraordinarily high-resolution image of a group of red sprites. This image is a single frame lasting only 1/25th of a second from a video taken above Castelnaud Castle in Dordogne, France, about three weeks ago. The sprites quickly vanished -- no sprites were visible even on the very next video frame.',\n",
       "  'hdurl': 'https://apod.nasa.gov/apod/image/2310/HiResSprites_Escurat_3000.jpg',\n",
       "  'media_type': 'image',\n",
       "  'service_version': 'v1',\n",
       "  'title': 'Sprite Lightning in High Definition',\n",
       "  'url': 'https://apod.nasa.gov/apod/image/2310/HiResSprites_Escurat_1080.jpg'},\n",
       " {'copyright': '\\nNASA, \\nESA, \\nHubble, \\nHLA;\\nProcessing & Copyright: \\nHarshwardhan Pathak\\n',\n",
       "  'date': '2023-10-03',\n",
       "  'explanation': \"Do you see the hourglass shape -- or does it see you?  If you can picture it, the rings of MyCn 18 trace the outline of an hourglass -- although one with an unusual eye in its center.  Either way, the sands of time are running out for the central star of this hourglass-shaped planetary nebula. With its nuclear fuel exhausted, this brief, spectacular, closing phase of a Sun-like star's life occurs as its outer layers are ejected - its core becoming a cooling, fading white dwarf. In 1995, astronomers used the Hubble Space Telescope (HST) to make a series of images of planetary nebulae, including the one featured here.  Pictured, delicate rings of colorful glowing gas (nitrogen-red, hydrogen-green, and oxygen-blue) outline the tenuous walls of the hourglass. The unprecedented sharpness of the Hubble images has revealed surprising details of the nebula ejection process that are helping to resolve the outstanding mysteries of the complex shapes and symmetries of planetary nebulas like MyCn 18.\",\n",
       "  'hdurl': 'https://apod.nasa.gov/apod/image/2310/Hourglass_HubblePathak_1080.jpg',\n",
       "  'media_type': 'image',\n",
       "  'service_version': 'v1',\n",
       "  'title': 'MyCn 18: The Engraved Hourglass Planetary Nebula',\n",
       "  'url': 'https://apod.nasa.gov/apod/image/2310/Hourglass_HubblePathak_1080.jpg'},\n",
       " {'copyright': '\\nAbdullah Alharbi\\n',\n",
       "  'date': '2023-10-04',\n",
       "  'explanation': \"Does this nebula look like the head of a witch? The nebula is known popularly as the Witch Head Nebula because, it is said, the nebula's shape resembles a Halloween-style caricature of a witch's head. Exactly how, though, can be a topic of imaginative speculation.  What is clear is that IC 2118 is about 50 light-years across and made of gas and dust that points to -- because it has been partly eroded by -- the nearby star Rigel. One of the brighter stars in the constellation Orion, Rigel lies below the bottom of the featured image. The blue color of the Witch Head Nebula and is caused not only by Rigel's intense blue starlight but because the dust grains scatter blue light more efficiently than red.  The same physical process causes Earth's daytime sky to appear blue, although the scatterers in planet Earth's atmosphere are molecules of nitrogen and oxygen.\",\n",
       "  'hdurl': 'https://apod.nasa.gov/apod/image/2310/WitchHead_Alharbi_3051.jpg',\n",
       "  'media_type': 'image',\n",
       "  'service_version': 'v1',\n",
       "  'title': 'IC 2118: The Witch Head Nebula',\n",
       "  'url': 'https://apod.nasa.gov/apod/image/2310/WitchHead_Alharbi_1080.jpg'},\n",
       " {'copyright': 'Tunc Tezel',\n",
       "  'date': '2023-10-05',\n",
       "  'explanation': \"Tracking along a narrow path, the shadow of a new moon will race across North, Central, and South America, on October 14. When viewed from the shadow path the apparent size of the lunar disk will not quite completely cover the Sun though. Instead, the moon in silhouette will appear during the minutes of totality surrounded by a fiery ring, an annular solar eclipse more dramatically known as a ring of fire eclipse. This striking time lapse sequence from May of 2012 illustrates the stages of a ring of fire eclipse. From before eclipse start until sunset, they are seen over the iconic buttes of planet Earth's Monument Valley. Remarkably, the October 14 ring of fire eclipse will also be visible over Monument Valley, beginning after sunrise in the eastern sky.\",\n",
       "  'hdurl': 'https://apod.nasa.gov/apod/image/2310/MoValleyEclipse.jpg',\n",
       "  'media_type': 'image',\n",
       "  'service_version': 'v1',\n",
       "  'title': 'Ring of Fire over Monument Valley',\n",
       "  'url': 'https://apod.nasa.gov/apod/image/2310/MoValleyEclipse1024.jpg'},\n",
       " {'copyright': 'Carnegie Institution for Science',\n",
       "  'date': '2023-10-06',\n",
       "  'explanation': 'How big is our universe? This question, among others, was debated by two leading astronomers in 1920 in what has since become known as astronomy\\'s Great Debate.  Many astronomers then believed that our Milky Way Galaxy was the entire universe.  Many others, though, believed that our galaxy was just one of many.  In the Great Debate, each argument was detailed, but no consensus was reached.  The answer came over three years later with the detected variation of single spot in the Andromeda Nebula, as shown on the original glass discovery plate digitally reproduced here. When Edwin Hubble compared images, he noticed that this spot varied, and on October 6, 1923 wrote \"VAR!\" on the plate.  The best explanation, Hubble knew, was that this spot was the image of a variable star that was very far away. So M31 was really the Andromeda Galaxy -- a galaxy possibly similar to our own.  Annotated 100 years ago, the featured image may not be pretty, but the variable spot on it opened a window through which humanity gazed knowingly, for the first time, into a surprisingly vast cosmos.',\n",
       "  'hdurl': 'https://apod.nasa.gov/apod/image/2310/HubbleVarOrig_Carnegie_2880.jpg',\n",
       "  'media_type': 'image',\n",
       "  'service_version': 'v1',\n",
       "  'title': 'Edwin Hubble Discovers the Universe',\n",
       "  'url': 'https://apod.nasa.gov/apod/image/2310/HubbleVarOrig_Carnegie_960.jpg'},\n",
       " {'date': '2023-10-07',\n",
       "  'explanation': \"This picture of Andromeda shows not only where stars are now, but where stars will be. The big, beautiful Andromeda Galaxy, M31, is a spiral galaxy a mere 2.5 million light-years away.  Image data from space-based and ground-based observatories have been combined here to produce this intriguing composite view of Andromeda at wavelengths both inside and outside normally visible light. The visible light shows where M31's stars are now, highlighted in white and blue hues and imaged by the Hubble, Subaru, and Mayall telescopes.  The infrared light shows where M31's future stars will soon form, highlighted in orange hues and imaged by NASA's Spitzer Space Telescope.  The infrared light tracks enormous lanes of dust, warmed by stars, sweeping along Andromeda's spiral arms.  This dust is a tracer of the galaxy's vast interstellar gas, raw material for future star formation.  Of course, the new stars will likely form over the next hundred million years or so. That's well before Andromeda merges with our Milky Way Galaxy in about 5 billion years.\",\n",
       "  'hdurl': 'https://apod.nasa.gov/apod/image/2310/M31_HubbleSpitzerGendler_2000.jpg',\n",
       "  'media_type': 'image',\n",
       "  'service_version': 'v1',\n",
       "  'title': 'The Once and Future Stars of Andromeda',\n",
       "  'url': 'https://apod.nasa.gov/apod/image/2310/M31_HubbleSpitzerGendler_960.jpg'}]"
      ]
     },
     "execution_count": 26,
     "metadata": {},
     "output_type": "execute_result"
    }
   ],
   "source": [
    "r.json()"
   ]
  },
  {
   "cell_type": "markdown",
   "id": "4ec263d6",
   "metadata": {},
   "source": [
    "## Exchange Rates API\n",
    "\n",
    "[Documentation](https://apilayer.com/marketplace/exchangerates_data-api)\n",
    "\n",
    "Sign up for an API key:\n",
    "* Go to [https://apilayer.com/marketplace/exchangerates_data-api](https://apilayer.com/marketplace/exchangerates_data-api)\n",
    "* You'll have to verify your email address and sign in\n",
    "* If you are taken back to the main page, search for \"exchange rates\" and click on \"Exchange Rates Data API\"\n",
    "* Under Pricing, find \"Free Plan\" and click \"Subscribe\"\n",
    "* If everything went well, you should then see a screen that says \"Subscription successful\" and \"Your API Key\"\n",
    "* Copy your API key to the clipboard and then save it in a .txt file (choose a sensible name for the file like \"`exchange_rates_apikey.txt`\")\n",
    "* **NEVER NEVER NEVER post your API key in a public place.  Anytime you use Git or GitHub with any API key, include the file with the key information in the `.gitignore` file**\n",
    "\n",
    "### Authenticating \n",
    "\n",
    "The NASA API, wanted us to authenticate with the api-key as a parameter in the url.  However, the documentation for this API says that the API key should be specified in a **header**.\n",
    "* Headers provide metadata about the request or response.  Some APIs (such as this one) require that the API key be specified in a header. \n",
    "    * Headers might also contain content type, return data type, user-agent, etc.  Generally the API documentation will specify \n",
    "\n",
    "\n",
    "### Endpoints\n",
    "* `/convert`\n",
    "* `/fluctuation`\n",
    "* `/latest`\n",
    "* `/symbols`\n",
    "* `/timeseries`\n",
    "* `/{date}`\n",
    "\n",
    "Each endpoint has its own parameters (or sometimes no parameters).  As with many API endpoints, some parameters are required and others are optional.\n",
    "\n",
    "\n",
    "#### Example\n",
    "For example, let's look at the `/convert` endpoint.  There are three required parameters and one optional:\n",
    "* amount (required) - amount to be converted\n",
    "* from (required) - three-letter currency code for the currency you would like to convert from\n",
    "* to (required) - three-letter currency code for the currency you would like to convert to\n",
    "* date (optional) - specify a date to use historical rates (default is latest)\n"
   ]
  },
  {
   "cell_type": "code",
   "execution_count": null,
   "id": "280a911f",
   "metadata": {},
   "outputs": [],
   "source": [
    "## First, get the api key\n",
    "with open('exchange_rates_apikey.txt', 'r') as file:\n",
    "    apikey = file.read()"
   ]
  },
  {
   "cell_type": "code",
   "execution_count": null,
   "id": "203ff800",
   "metadata": {},
   "outputs": [],
   "source": [
    "# set up the headers\n",
    "headers= {\n",
    "  \"apikey\": apikey\n",
    "}"
   ]
  },
  {
   "cell_type": "code",
   "execution_count": null,
   "id": "137030a5",
   "metadata": {},
   "outputs": [],
   "source": [
    "# specify base_url and endpoint url (or this could be done in one step)\n",
    "base_url = \"https://api.apilayer.com/exchangerates_data\"\n",
    "endpoint = '/convert'\n",
    "url = base_url + endpoint"
   ]
  },
  {
   "cell_type": "code",
   "execution_count": null,
   "id": "de3cfa24",
   "metadata": {},
   "outputs": [],
   "source": [
    "# set up parameters.  I'm going to specify 35 Euros to US Dollars for Oct 8, 2023\n",
    "params = {'amount':'35',\n",
    "          'from':'EUR',\n",
    "          'to':'USD',\n",
    "          'date': '2023-10-08'}"
   ]
  },
  {
   "cell_type": "code",
   "execution_count": null,
   "id": "d1e8984e",
   "metadata": {},
   "outputs": [],
   "source": [
    "r = requests.get(url, headers=headers, params=params)\n",
    "print(r.ok)\n",
    "print(r.url)"
   ]
  },
  {
   "cell_type": "code",
   "execution_count": null,
   "id": "580c0728",
   "metadata": {},
   "outputs": [],
   "source": []
  },
  {
   "cell_type": "code",
   "execution_count": null,
   "id": "d7a2b0cb",
   "metadata": {},
   "outputs": [],
   "source": [
    "r.json()"
   ]
  },
  {
   "cell_type": "markdown",
   "id": "b317a9e5",
   "metadata": {},
   "source": [
    "## Wikipedia API\n",
    "\n",
    "[API Documentation](https://www.mediawiki.org/wiki/API:Main_page)\n",
    "\n",
    "Some APIs (and websites) want you to specify who you are through a `user-agent` parameter.  This can be the browser user-agent, but it can also be just a description of your project.  \n",
    "\n",
    "The Wikipedia API requests that you specify the user-agent per their [policy](https://meta.wikimedia.org/wiki/User-Agent_policy).  The basic format is `Project name (email@email.com)`"
   ]
  },
  {
   "cell_type": "code",
   "execution_count": null,
   "id": "2aa9bbfb",
   "metadata": {},
   "outputs": [],
   "source": [
    "user_agent = 'Practice with APIs for Stat 386/0.0 (esnt@byu.edu)'\n",
    "headers = {'User-Agent':user_agent}"
   ]
  },
  {
   "cell_type": "code",
   "execution_count": null,
   "id": "7530fc99",
   "metadata": {},
   "outputs": [],
   "source": [
    "base_url = \"https://en.wikipedia.org/w/api.php\"\n",
    "params = {'action':'query',\n",
    "          'list':'search',\n",
    "          'srsearch': 'Star Wars',\n",
    "          'format': 'json'}"
   ]
  },
  {
   "cell_type": "code",
   "execution_count": null,
   "id": "0d01db8e",
   "metadata": {},
   "outputs": [],
   "source": [
    "r = requests.get(base_url, params=params)"
   ]
  },
  {
   "cell_type": "code",
   "execution_count": null,
   "id": "d9053bf3",
   "metadata": {},
   "outputs": [],
   "source": [
    "r.text"
   ]
  },
  {
   "cell_type": "markdown",
   "id": "78fe5e8f",
   "metadata": {},
   "source": [
    "## The Movie Database (TMDb)\n",
    "\n",
    "[Website](https://www.themoviedb.org/?language=en-US) and [API Documentation](https://developer.themoviedb.org/docs)"
   ]
  },
  {
   "cell_type": "code",
   "execution_count": 31,
   "id": "36a44668",
   "metadata": {},
   "outputs": [
    {
     "ename": "FileNotFoundError",
     "evalue": "[Errno 2] No such file or directory: 'tmdb_api_key.txt'",
     "output_type": "error",
     "traceback": [
      "\u001b[0;31m---------------------------------------------------------------------------\u001b[0m",
      "\u001b[0;31mFileNotFoundError\u001b[0m                         Traceback (most recent call last)",
      "Cell \u001b[0;32mIn[31], line 3\u001b[0m\n\u001b[1;32m      1\u001b[0m base_url \u001b[38;5;241m=\u001b[39m \u001b[38;5;124m\"\u001b[39m\u001b[38;5;124mhttps://api.themoviedb.org/3/search/movie\u001b[39m\u001b[38;5;124m\"\u001b[39m\n\u001b[0;32m----> 3\u001b[0m \u001b[38;5;28;01mwith\u001b[39;00m \u001b[38;5;28mopen\u001b[39m(\u001b[38;5;124m'\u001b[39m\u001b[38;5;124mtmdb_api_key.txt\u001b[39m\u001b[38;5;124m'\u001b[39m, \u001b[38;5;124m'\u001b[39m\u001b[38;5;124mr\u001b[39m\u001b[38;5;124m'\u001b[39m) \u001b[38;5;28;01mas\u001b[39;00m file:\n\u001b[1;32m      4\u001b[0m     apikey \u001b[38;5;241m=\u001b[39m file\u001b[38;5;241m.\u001b[39mreadlines()[\u001b[38;5;241m1\u001b[39m]\u001b[38;5;241m.\u001b[39mstrip()\n",
      "File \u001b[0;32m~/anaconda3/lib/python3.11/site-packages/IPython/core/interactiveshell.py:286\u001b[0m, in \u001b[0;36m_modified_open\u001b[0;34m(file, *args, **kwargs)\u001b[0m\n\u001b[1;32m    279\u001b[0m \u001b[38;5;28;01mif\u001b[39;00m file \u001b[38;5;129;01min\u001b[39;00m {\u001b[38;5;241m0\u001b[39m, \u001b[38;5;241m1\u001b[39m, \u001b[38;5;241m2\u001b[39m}:\n\u001b[1;32m    280\u001b[0m     \u001b[38;5;28;01mraise\u001b[39;00m \u001b[38;5;167;01mValueError\u001b[39;00m(\n\u001b[1;32m    281\u001b[0m         \u001b[38;5;124mf\u001b[39m\u001b[38;5;124m\"\u001b[39m\u001b[38;5;124mIPython won\u001b[39m\u001b[38;5;124m'\u001b[39m\u001b[38;5;124mt let you open fd=\u001b[39m\u001b[38;5;132;01m{\u001b[39;00mfile\u001b[38;5;132;01m}\u001b[39;00m\u001b[38;5;124m by default \u001b[39m\u001b[38;5;124m\"\u001b[39m\n\u001b[1;32m    282\u001b[0m         \u001b[38;5;124m\"\u001b[39m\u001b[38;5;124mas it is likely to crash IPython. If you know what you are doing, \u001b[39m\u001b[38;5;124m\"\u001b[39m\n\u001b[1;32m    283\u001b[0m         \u001b[38;5;124m\"\u001b[39m\u001b[38;5;124myou can use builtins\u001b[39m\u001b[38;5;124m'\u001b[39m\u001b[38;5;124m open.\u001b[39m\u001b[38;5;124m\"\u001b[39m\n\u001b[1;32m    284\u001b[0m     )\n\u001b[0;32m--> 286\u001b[0m \u001b[38;5;28;01mreturn\u001b[39;00m io_open(file, \u001b[38;5;241m*\u001b[39margs, \u001b[38;5;241m*\u001b[39m\u001b[38;5;241m*\u001b[39mkwargs)\n",
      "\u001b[0;31mFileNotFoundError\u001b[0m: [Errno 2] No such file or directory: 'tmdb_api_key.txt'"
     ]
    }
   ],
   "source": [
    "base_url = \"https://api.themoviedb.org/3/search/movie\"\n",
    "\n",
    "with open('tmdb_api_key.txt', 'r') as file:\n",
    "    apikey = file.readlines()[1].strip()\n"
   ]
  },
  {
   "cell_type": "code",
   "execution_count": null,
   "id": "5785f0ab",
   "metadata": {},
   "outputs": [],
   "source": [
    "headers = {\n",
    "    \"accept\": \"application/json\",\n",
    "    \"Authorization\": \"Bearer \" + apikey}"
   ]
  },
  {
   "cell_type": "code",
   "execution_count": null,
   "id": "f3021666",
   "metadata": {},
   "outputs": [],
   "source": [
    "results = []\n",
    "for page in range(1,10,1):\n",
    "\n",
    "    params = {'include_adult':'false',\n",
    "            'language':\"en-US\",\n",
    "            'query':'Star Wars',\n",
    "            'page': str(page)}\n",
    "    \n",
    "    response = requests.get(base_url, headers=headers, params=params)\n",
    "\n",
    "    print(response.status_code)\n",
    "    if response.ok:\n",
    "        results.extend(response.json()['results'])"
   ]
  },
  {
   "cell_type": "code",
   "execution_count": null,
   "id": "62ed12b3",
   "metadata": {},
   "outputs": [],
   "source": [
    "sw = pd.DataFrame(results)\n",
    "sw = sw[['original_title','popularity','release_date','title','vote_average','vote_count']]"
   ]
  },
  {
   "cell_type": "code",
   "execution_count": null,
   "id": "ef5f6181",
   "metadata": {},
   "outputs": [],
   "source": [
    "sw.sort_values(by='popularity', ascending=False).head(10)"
   ]
  },
  {
   "cell_type": "code",
   "execution_count": null,
   "id": "659d9f92",
   "metadata": {},
   "outputs": [],
   "source": [
    "sw[sw.vote_count>500].sort_values(by='vote_average', ascending=False).head(10)"
   ]
  },
  {
   "cell_type": "code",
   "execution_count": null,
   "id": "68b20657",
   "metadata": {},
   "outputs": [],
   "source": []
  }
 ],
 "metadata": {
  "kernelspec": {
   "display_name": "Python 3 (ipykernel)",
   "language": "python",
   "name": "python3"
  },
  "language_info": {
   "codemirror_mode": {
    "name": "ipython",
    "version": 3
   },
   "file_extension": ".py",
   "mimetype": "text/x-python",
   "name": "python",
   "nbconvert_exporter": "python",
   "pygments_lexer": "ipython3",
   "version": "3.11.5"
  }
 },
 "nbformat": 4,
 "nbformat_minor": 5
}
