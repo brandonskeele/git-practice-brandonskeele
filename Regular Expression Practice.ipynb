{
 "cells": [
  {
   "cell_type": "code",
   "execution_count": 1,
   "id": "9fc93a2c",
   "metadata": {},
   "outputs": [],
   "source": [
    "import pandas as pd\n",
    "import numpy as np\n",
    "import re"
   ]
  },
  {
   "cell_type": "code",
   "execution_count": 2,
   "id": "a49f5981",
   "metadata": {},
   "outputs": [],
   "source": [
    "st = \"\"\"The quick brown fox jumps over the lazy dog. \n",
    "My email is john.doe@example.com. \n",
    "My other email is random_student@university.edu.  \n",
    "The date is 03/05/2024. \n",
    "The textbook will cost $30. It should be less than 40€.\n",
    "This is a sample phone number (123) 456-7890.\n",
    "Here is another sample (987)654-3210.\n",
    "Provo's lat/lon coordinates are 40.2338N111.6585W\"\"\""
   ]
  },
  {
   "cell_type": "markdown",
   "id": "004b1ff2",
   "metadata": {},
   "source": [
    "1. Find all the digits in the string `st`."
   ]
  },
  {
   "cell_type": "code",
   "execution_count": 7,
   "id": "a69d0384",
   "metadata": {},
   "outputs": [],
   "source": [
    "digits_pattern = r'\\d+'"
   ]
  },
  {
   "cell_type": "code",
   "execution_count": 8,
   "id": "e69b9546",
   "metadata": {},
   "outputs": [],
   "source": [
    "digits = re.findall(digits_pattern, st)"
   ]
  },
  {
   "cell_type": "code",
   "execution_count": 9,
   "id": "ae9c4bff",
   "metadata": {},
   "outputs": [
    {
     "name": "stdout",
     "output_type": "stream",
     "text": [
      "['03', '05', '2024', '30', '40', '123', '456', '7890', '987', '654', '3210', '40', '2338', '111', '6585']\n"
     ]
    }
   ],
   "source": [
    "print(digits)"
   ]
  },
  {
   "cell_type": "markdown",
   "id": "9366aff1",
   "metadata": {},
   "source": [
    "2. Find all the phone numbers of the form `(XXX) XXX-XXXX` or `(XXX)XXX-XXXX` in the string `st`.  \n"
   ]
  },
  {
   "cell_type": "code",
   "execution_count": 13,
   "id": "21a2b443",
   "metadata": {},
   "outputs": [],
   "source": [
    "phone_pattern = r'\\(\\d{3}\\) \\d{3}-\\d{4}|\\(\\d{3}\\)\\d{3}-\\d{4}'"
   ]
  },
  {
   "cell_type": "code",
   "execution_count": 14,
   "id": "9b6196ab",
   "metadata": {},
   "outputs": [],
   "source": [
    "phone_numbers = re.findall(phone_pattern, st)"
   ]
  },
  {
   "cell_type": "code",
   "execution_count": 15,
   "id": "6b118f5f",
   "metadata": {},
   "outputs": [
    {
     "name": "stdout",
     "output_type": "stream",
     "text": [
      "['(123) 456-7890', '(987)654-3210']\n"
     ]
    }
   ],
   "source": [
    "print(phone_numbers)"
   ]
  },
  {
   "cell_type": "markdown",
   "id": "2a8608d0",
   "metadata": {},
   "source": [
    "3. Find all the email addresses in the string `st`.\n"
   ]
  },
  {
   "cell_type": "code",
   "execution_count": 25,
   "id": "0957e54e",
   "metadata": {},
   "outputs": [],
   "source": [
    "email_pattern = r'[a-zA-Z0-9._\\-,:]+@[a-z A-Z 0-9]+\\.[a-z]{3}'"
   ]
  },
  {
   "cell_type": "code",
   "execution_count": 26,
   "id": "2f467317",
   "metadata": {},
   "outputs": [],
   "source": [
    "email_addresses = re.findall(email_pattern, st)"
   ]
  },
  {
   "cell_type": "code",
   "execution_count": 27,
   "id": "c96712b6",
   "metadata": {},
   "outputs": [
    {
     "name": "stdout",
     "output_type": "stream",
     "text": [
      "['john.doe@example.com', 'random_student@university.edu']\n"
     ]
    }
   ],
   "source": [
    "print(email_addresses)"
   ]
  },
  {
   "cell_type": "markdown",
   "id": "da5def3c",
   "metadata": {},
   "source": [
    "4. Create a regex pattern that extracts the year from a date formatted as `MM/DD/YYYY`.  Apply your pattern to the string `st`."
   ]
  },
  {
   "cell_type": "code",
   "execution_count": 28,
   "id": "48bca3fd",
   "metadata": {},
   "outputs": [],
   "source": [
    "year_pattern = r'\\d{2}/\\d{2}/(\\d{4})'"
   ]
  },
  {
   "cell_type": "code",
   "execution_count": 29,
   "id": "079f1685",
   "metadata": {},
   "outputs": [],
   "source": [
    "years = re.findall(year_pattern, st)"
   ]
  },
  {
   "cell_type": "code",
   "execution_count": 30,
   "id": "3bd209bb",
   "metadata": {},
   "outputs": [
    {
     "name": "stdout",
     "output_type": "stream",
     "text": [
      "['2024']\n"
     ]
    }
   ],
   "source": [
    "print(years)"
   ]
  },
  {
   "cell_type": "markdown",
   "id": "807f99c0",
   "metadata": {},
   "source": [
    "5.  Find all the values in `st` that represent currency in US Dollars."
   ]
  },
  {
   "cell_type": "code",
   "execution_count": 40,
   "id": "87e0f7a8",
   "metadata": {},
   "outputs": [],
   "source": [
    "dollars_pattern = r'(?<=\\$)\\d+'"
   ]
  },
  {
   "cell_type": "code",
   "execution_count": 41,
   "id": "13f8a6ec",
   "metadata": {},
   "outputs": [],
   "source": [
    "dollars_currency = re.findall(dollars_pattern, st)"
   ]
  },
  {
   "cell_type": "code",
   "execution_count": 42,
   "id": "0ab13fc2",
   "metadata": {},
   "outputs": [
    {
     "name": "stdout",
     "output_type": "stream",
     "text": [
      "['30']\n"
     ]
    }
   ],
   "source": [
    "print(dollars_currency)"
   ]
  },
  {
   "cell_type": "markdown",
   "id": "a052eb6e",
   "metadata": {},
   "source": [
    "6. Find all the values `st` that represent currency in Euros (€)"
   ]
  },
  {
   "cell_type": "code",
   "execution_count": 43,
   "id": "8b6dd698",
   "metadata": {},
   "outputs": [],
   "source": [
    "euros_pattern = r'\\d+(?=€)'"
   ]
  },
  {
   "cell_type": "code",
   "execution_count": 44,
   "id": "81e31423",
   "metadata": {},
   "outputs": [],
   "source": [
    "euros_currency = re.findall(euros_pattern, st)"
   ]
  },
  {
   "cell_type": "code",
   "execution_count": 45,
   "id": "24e53f31",
   "metadata": {},
   "outputs": [
    {
     "name": "stdout",
     "output_type": "stream",
     "text": [
      "['40']\n"
     ]
    }
   ],
   "source": [
    "print(euros_currency)"
   ]
  },
  {
   "cell_type": "markdown",
   "id": "52c73c83",
   "metadata": {},
   "source": [
    "7. Extract the latitude and longitude from `st`."
   ]
  },
  {
   "cell_type": "code",
   "execution_count": 55,
   "id": "b2b99114",
   "metadata": {},
   "outputs": [],
   "source": [
    "coords_pattern = r'\\d+\\.\\d+[nsewNSEW]\\d+\\.\\d+[nsewNSEW]'"
   ]
  },
  {
   "cell_type": "code",
   "execution_count": 56,
   "id": "7d65fbac",
   "metadata": {},
   "outputs": [],
   "source": [
    "coordinates = re.findall(coords_pattern, st)"
   ]
  },
  {
   "cell_type": "code",
   "execution_count": 57,
   "id": "62ab0e14",
   "metadata": {},
   "outputs": [
    {
     "name": "stdout",
     "output_type": "stream",
     "text": [
      "['40.2338N111.6585W']\n"
     ]
    }
   ],
   "source": [
    "print(coordinates)"
   ]
  },
  {
   "cell_type": "markdown",
   "id": "667a72a9",
   "metadata": {},
   "source": [
    "8. Replace all the vowels in `st` with the character `*`"
   ]
  },
  {
   "cell_type": "code",
   "execution_count": 58,
   "id": "b2c3857e",
   "metadata": {},
   "outputs": [],
   "source": [
    "vowel_pattern = r'[aeiouAEIOU]'"
   ]
  },
  {
   "cell_type": "code",
   "execution_count": 59,
   "id": "c21f05df",
   "metadata": {},
   "outputs": [],
   "source": [
    "sub_st = re.sub(vowel_pattern, \"*\", st)"
   ]
  },
  {
   "cell_type": "code",
   "execution_count": 60,
   "id": "c3be200d",
   "metadata": {},
   "outputs": [
    {
     "name": "stdout",
     "output_type": "stream",
     "text": [
      "Th* q**ck br*wn f*x j*mps *v*r th* l*zy d*g. \n",
      "My *m**l *s j*hn.d**@*x*mpl*.c*m. \n",
      "My *th*r *m**l *s r*nd*m_st*d*nt@*n*v*rs*ty.*d*.  \n",
      "Th* d*t* *s 03/05/2024. \n",
      "Th* t*xtb**k w*ll c*st $30. *t sh**ld b* l*ss th*n 40€.\n",
      "Th*s *s * s*mpl* ph*n* n*mb*r (123) 456-7890.\n",
      "H*r* *s *n*th*r s*mpl* (987)654-3210.\n",
      "Pr*v*'s l*t/l*n c**rd*n*t*s *r* 40.2338N111.6585W\n"
     ]
    }
   ],
   "source": [
    "print(sub_st)"
   ]
  },
  {
   "cell_type": "markdown",
   "id": "6c4a8c69",
   "metadata": {},
   "source": [
    "## Regular expressions (and other cleaning tasks) with DataFrames\n",
    "\n",
    "Load the data:\n",
    "```python\n",
    "url = 'https://github.com/esnt/Data/raw/main/MessyData/employeedata.csv'\n",
    "df_employee = pd.read_csv(url)\n",
    "```\n",
    "\n",
    "1. Extract the first and last names from the \"name\" column and create two new variable called \"first_name\" and \"last_name\"\n",
    "2. Extract the area code from the phone number column and create a new variable called \"area_code\" (assume the area code is always the first 3 digits)\n",
    "3. Extract the year from the \"birthdate\" column and create a new variable called \"birthyear\"\n",
    "4. Create a columns that is the height in inches\n",
    "5. Create a column that contains the domain of the email addresses (e.g. \"yahoo.com\")\n",
    "6. Extract the city and state from the \"mailing_address\" and create three new variables called \"city\", \"state\", and \"zipcode\"\n",
    "7. Keep only the new variables that you created in (1.) - (6.) Your final dataset should look something like this:\n",
    "\n",
    "\n",
    "| first_name | last_name | area_code | birthyear| ht_in| domain | city | state | zipcode |\n",
    "|------------|-----------|-----------|----------|-------|-------|--------|-----|---------|\n",
    "| Ryan | Wilkins | 851 | 1959 | 74 | hotmail.com | Port Victoria | MN | 71782"
   ]
  },
  {
   "cell_type": "code",
   "execution_count": 71,
   "id": "3e4e96f5",
   "metadata": {},
   "outputs": [],
   "source": [
    "url = 'https://github.com/esnt/Data/raw/main/MessyData/employeedata.csv'\n",
    "df_employee = pd.read_csv(url)"
   ]
  },
  {
   "cell_type": "code",
   "execution_count": null,
   "id": "39a4f922",
   "metadata": {},
   "outputs": [],
   "source": []
  }
 ],
 "metadata": {
  "kernelspec": {
   "display_name": "Python 3 (ipykernel)",
   "language": "python",
   "name": "python3"
  },
  "language_info": {
   "codemirror_mode": {
    "name": "ipython",
    "version": 3
   },
   "file_extension": ".py",
   "mimetype": "text/x-python",
   "name": "python",
   "nbconvert_exporter": "python",
   "pygments_lexer": "ipython3",
   "version": "3.11.5"
  }
 },
 "nbformat": 4,
 "nbformat_minor": 5
}
